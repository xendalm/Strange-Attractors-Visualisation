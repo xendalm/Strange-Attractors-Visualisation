{
 "cells": [
  {
   "cell_type": "code",
   "execution_count": 12,
   "metadata": {},
   "outputs": [],
   "source": [
    "from PIL import Image\n",
    "import IPython.display as IPdisplay\n",
    "import matplotlib.pyplot as plt\n",
    "import glob\n",
    "import os\n",
    "import pickle\n",
    "%matplotlib widget\n"
   ]
  },
  {
   "cell_type": "code",
   "execution_count": 13,
   "metadata": {},
   "outputs": [],
   "source": [
    "def get_Lorenz_attractor(iterations):\n",
    "    x, y, z = 0.01, 0, 0\n",
    "    sigma, rho, beta = 10, 28, 8 / 3\n",
    "    dt = 0.01\n",
    "    result = [[x], [y], [z]]\n",
    "    for i in range(0, iterations):\n",
    "        dx = (sigma * (y - x)) * dt\n",
    "        dy = (x * (rho - z) - y) * dt\n",
    "        dz = (x * y - beta * z) * dt\n",
    "        x += dx\n",
    "        y += dy\n",
    "        z += dz\n",
    "        result[0].append(x)\n",
    "        result[1].append(y)\n",
    "        result[2].append(z)\n",
    "    return result\n"
   ]
  },
  {
   "cell_type": "code",
   "execution_count": 14,
   "metadata": {},
   "outputs": [],
   "source": [
    "def get_Aizawa_attractor(iterations):\n",
    "    x, y, z = 0.1, 0, 0\n",
    "    a, b, c, d, e, f = 0.95, 0.7, 0.6, 3.5, 0.25, 0.1\n",
    "    dt = 0.01\n",
    "    result = [[x], [y], [z]]\n",
    "    for i in range(0, iterations):\n",
    "        dx = (z - b) * x - d * y\n",
    "        dy = d * x + (z - b) * y\n",
    "        dz = c + a * z - (pow(z, 3) / 3) - (pow(x, 2) +\n",
    "                                            pow(y, 2)) * (1 + e * z) + f * z * (pow(x, 3))\n",
    "        x += dx * dt\n",
    "        y += dy * dt\n",
    "        z += dz * dt\n",
    "        result[0].append(x)\n",
    "        result[1].append(y)\n",
    "        result[2].append(z)\n",
    "    return result\n"
   ]
  },
  {
   "cell_type": "code",
   "execution_count": 15,
   "metadata": {},
   "outputs": [],
   "source": [
    "def adjust_scale(bounds, axes_shift, delta):\n",
    "    max_ind, max_val = 0, delta[0]\n",
    "    for i, val in enumerate(delta[1:]):\n",
    "        if val > max_val:\n",
    "            max_ind, max_val = i + 1, val\n",
    "    for i in range(0, len(bounds)):\n",
    "        if i == max_ind:\n",
    "            bounds[i][0] -= axes_shift * delta[i]\n",
    "            bounds[i][1] += axes_shift * delta[i]\n",
    "        else:\n",
    "            bounds[i][0] -= (delta[max_ind] *\n",
    "                             (1 + axes_shift * 2) - delta[i]) / 2\n",
    "            bounds[i][1] += (delta[max_ind] *\n",
    "                             (1 + axes_shift * 2) - delta[i]) / 2\n"
   ]
  },
  {
   "cell_type": "code",
   "execution_count": 16,
   "metadata": {},
   "outputs": [],
   "source": [
    "def generate_animation_2d(x_arr, y_arr, frames_number, frame_duration, file_name, darkmode=True):\n",
    "    if darkmode:\n",
    "        plt.style.use('dark_background')\n",
    "    else:\n",
    "        plt.style.use('default')\n",
    "    x_min = min(x_arr)\n",
    "    x_max = max(x_arr)\n",
    "    y_min = min(y_arr)\n",
    "    y_max = max(y_arr)\n",
    "    dx = x_max - x_min\n",
    "    dy = y_max - y_min\n",
    "    axes_shift = 0.1\n",
    "    bounds = [[x_min, x_max], [y_min, y_max]]\n",
    "    delta = [dx, dy]\n",
    "    adjust_scale(bounds, axes_shift, delta)\n",
    "\n",
    "    fig = plt.figure()\n",
    "    ax = fig.add_subplot(1, 1, 1)\n",
    "\n",
    "    ax.set_xlim(bounds[0][0], bounds[0][1])\n",
    "    ax.set_ylim(bounds[1][0], bounds[1][1])\n",
    "\n",
    "    save_folder = file_name + '_images'\n",
    "    if not os.path.exists(save_folder):\n",
    "        os.makedirs(save_folder)\n",
    "    else:\n",
    "        for f in os.listdir(save_folder):\n",
    "            os.remove(os.path.join(save_folder, f))\n",
    "    points_number = min(len(x_arr), len(y_arr))\n",
    "    frame_perioud = round(points_number / frames_number)\n",
    "    if points_number < frames_number:\n",
    "        frame_perioud = 1\n",
    "        frames_number = points_number\n",
    "    for i in range(1, points_number - 1, frame_perioud):\n",
    "        ax.plot(x_arr[i - 1: i + frame_perioud], y_arr[i - 1: i + frame_perioud], c='#65aeeb', linewidth=0.6)\n",
    "        plt.savefig('{}/{:03d}.png'.format(save_folder, round(i / frame_perioud)), dpi=150, bbox_inches='tight', pad_inches=0.1)\n",
    "    plt.savefig('{}/{:03d}.png'.format(save_folder, round(points_number / frame_perioud)), dpi=150, bbox_inches='tight', pad_inches=0.1)\n",
    "                \n",
    "    images = [Image.open(image) for image in glob.glob('{}/*.png'.format(save_folder))]\n",
    "    gif_filepath = file_name + \".gif\"\n",
    "\n",
    "    duration = frame_duration * frames_number\n",
    "    gif = images[0]\n",
    "    gif.info['duration'] = duration\n",
    "    gif.info['loop'] = 0\n",
    "    gif.save(fp=gif_filepath, format='gif', save_all=True, append_images=images)\n",
    "\n",
    "    plt.show()\n"
   ]
  },
  {
   "cell_type": "code",
   "execution_count": 17,
   "metadata": {},
   "outputs": [],
   "source": [
    "def generate_animation_3d(x_arr, y_arr, z_arr, frames_number, frame_duration, file_name, with_projections=False, darkmode=True):\n",
    "    if darkmode:\n",
    "        plt.style.use('dark_background')\n",
    "    else:\n",
    "        plt.style.use('default')\n",
    "    x_min = min(x_arr)\n",
    "    x_max = max(x_arr)\n",
    "    y_min = min(y_arr)\n",
    "    y_max = max(y_arr)\n",
    "    z_min = min(z_arr)\n",
    "    z_max = max(z_arr)\n",
    "    dx = x_max - x_min\n",
    "    dy = y_max - y_min\n",
    "    dz = z_max - z_min\n",
    "    axes_shift = 0.1\n",
    "    bounds = [[x_min, x_max], [y_min, y_max], [z_min, z_max]]\n",
    "    delta = [dx, dy, dz]\n",
    "    adjust_scale(bounds, axes_shift, delta)\n",
    "\n",
    "    points_number = min(len(x_arr), len(y_arr), len(z_arr))\n",
    "\n",
    "    fig = plt.figure()\n",
    "    line_width = 0.9\n",
    "    if with_projections:\n",
    "        ax_3d = fig.add_subplot(2, 2, 1, projection='3d')\n",
    "        ax_3d.set_xlabel('x')\n",
    "        ax_3d.set_ylabel('y')\n",
    "        ax_3d.set_zlabel('z', rotation=0, labelpad=2)\n",
    "        ax1 = fig.add_subplot(2, 2, 2)\n",
    "        ax1.set_xlim((bounds[0][0], bounds[0][1]))\n",
    "        ax1.set_ylim((bounds[1][0], bounds[1][1]))\n",
    "        ax1.set_xlabel('x')\n",
    "        ax1.set_ylabel('y', rotation=0, labelpad=5)\n",
    "        ax2 = fig.add_subplot(2, 2, 3)\n",
    "        ax2.set_xlim((bounds[0][0], bounds[0][1]))\n",
    "        ax2.set_ylim((bounds[2][0], bounds[2][1]))\n",
    "        ax2.set_xlabel('x')\n",
    "        ax2.set_ylabel('z', rotation=0, labelpad=5)\n",
    "        ax3 = fig.add_subplot(2, 2, 4)\n",
    "        ax3.set_xlim((bounds[1][0], bounds[1][1]))\n",
    "        ax3.set_ylim((bounds[2][0], bounds[2][1]))\n",
    "        ax3.set_xlabel('y')\n",
    "        ax3.set_ylabel('z', rotation=0, labelpad=5)\n",
    "        line_width = 0.6\n",
    "        plt.tight_layout()\n",
    "    else:\n",
    "        ax_3d = fig.add_subplot(projection='3d')\n",
    "\n",
    "    ax_3d.set_xlim((bounds[0][0], bounds[0][1]))\n",
    "    ax_3d.set_ylim((bounds[1][0], bounds[1][1]))\n",
    "    ax_3d.set_zlim((bounds[2][0], bounds[2][1]))\n",
    "    if darkmode:\n",
    "        ax_3d.xaxis.set_pane_color((0.07, 0.07, 0.07, 1.0))\n",
    "        ax_3d.yaxis.set_pane_color((0.07, 0.07, 0.07, 1.0))\n",
    "        ax_3d.zaxis.set_pane_color((0.07, 0.07, 0.07, 1.0))\n",
    "        ax_3d.xaxis._axinfo[\"grid\"].update({\"color\": (0.7, 0.7, 0.7, 1.0)})\n",
    "        ax_3d.yaxis._axinfo[\"grid\"].update({\"color\": (0.7, 0.7, 0.7, 1.0)})\n",
    "        ax_3d.zaxis._axinfo[\"grid\"].update({\"color\": (0.7, 0.7, 0.7, 1.0)})\n",
    "\n",
    "    save_folder = file_name + '_images'\n",
    "    if not os.path.exists(save_folder):\n",
    "        os.makedirs(save_folder)\n",
    "    else:\n",
    "        for f in os.listdir(save_folder):\n",
    "            os.remove(os.path.join(save_folder, f))\n",
    "    frame_perioud = round(points_number / frames_number)\n",
    "    if points_number < frames_number:\n",
    "        frame_perioud = 1\n",
    "        frames_number = points_number\n",
    "    for i in range(0, points_number - 1, frame_perioud):\n",
    "        ax_3d.plot(x_arr[i - 1: i + frame_perioud], y_arr[i - 1: i + frame_perioud],\n",
    "                   z_arr[i - 1: i + frame_perioud], c='#65aeeb', linewidth=line_width)\n",
    "        if with_projections:\n",
    "            ax1.plot(x_arr[i - 1: i + frame_perioud], y_arr[i - 1: i + frame_perioud], c='#65aeeb', linewidth=line_width)\n",
    "            ax2.plot(x_arr[i - 1: i + frame_perioud], z_arr[i - 1: i + frame_perioud], c='#65aeeb', linewidth=line_width)\n",
    "            ax3.plot(y_arr[i - 1: i + frame_perioud], z_arr[i - 1: i + frame_perioud], c='#65aeeb', linewidth=line_width)\n",
    "\t\t\t\n",
    "        plt.savefig('{}/{:03d}.png'.format(save_folder, round(i / frame_perioud)),\n",
    "                    dpi=150, bbox_inches='tight', pad_inches=0.1)\n",
    "    \n",
    "    plt.savefig('{}/{:03d}.png'.format(save_folder, round(points_number / frame_perioud)),\n",
    "                dpi=150, bbox_inches='tight', pad_inches=0.1)\n",
    "\n",
    "    images = [Image.open(image)\n",
    "              for image in glob.glob('{}/*.png'.format(save_folder))]\n",
    "    gif_filepath = file_name + \".gif\"\n",
    "\n",
    "    duration = frame_duration * frames_number\n",
    "    gif = images[0]\n",
    "    gif.info['duration'] = duration\n",
    "    gif.info['loop'] = 0\n",
    "    gif.save(fp=gif_filepath, format='gif',\n",
    "             save_all=True, append_images=images)\n",
    "\n",
    "    plt.show()\n"
   ]
  },
  {
   "cell_type": "code",
   "execution_count": null,
   "metadata": {},
   "outputs": [],
   "source": [
    "xyz = get_Lorenz_attractor(7000)\n",
    "generate_animation_3d(xyz[0], xyz[1], xyz[2], 10, 0.04, \"Lorenz\")"
   ]
  },
  {
   "cell_type": "code",
   "execution_count": 19,
   "metadata": {},
   "outputs": [
    {
     "data": {
      "text/html": [
       "<img src=\"Lorenz.gif\"/>"
      ],
      "text/plain": [
       "<IPython.core.display.Image object>"
      ]
     },
     "execution_count": 19,
     "metadata": {},
     "output_type": "execute_result"
    }
   ],
   "source": [
    "Image.open(\"Lorenz.gif\")\n",
    "IPdisplay.Image(url=\"Lorenz.gif\")"
   ]
  },
  {
   "cell_type": "code",
   "execution_count": null,
   "metadata": {},
   "outputs": [],
   "source": [
    "xyz = get_Aizawa_attractor(10000)\n",
    "generate_animation_3d(xyz[0], xyz[1], xyz[2], 200, 0.02, \"Aizawa_p\", True)"
   ]
  },
  {
   "cell_type": "code",
   "execution_count": 21,
   "metadata": {},
   "outputs": [
    {
     "data": {
      "text/html": [
       "<img src=\"Aizawa_p.gif\"/>"
      ],
      "text/plain": [
       "<IPython.core.display.Image object>"
      ]
     },
     "execution_count": 21,
     "metadata": {},
     "output_type": "execute_result"
    }
   ],
   "source": [
    "Image.open(\"Aizawa_p.gif\")\n",
    "IPdisplay.Image(url=\"Aizawa_p.gif\")"
   ]
  },
  {
   "cell_type": "code",
   "execution_count": 22,
   "metadata": {},
   "outputs": [],
   "source": [
    "# generate_animation_2d(xyz[0], xyz[1], 100, 0.2, \"Aizawa2d\")\n",
    "\n",
    "# Image.open(\"Aizawa2d.gif\")\n",
    "# IPdisplay.Image(url=\"Aizawa2d.gif\")\n"
   ]
  }
 ],
 "metadata": {
  "kernelspec": {
   "display_name": "Python 3 (ipykernel)",
   "language": "python",
   "name": "python3"
  },
  "language_info": {
   "codemirror_mode": {
    "name": "ipython",
    "version": 3
   },
   "file_extension": ".py",
   "mimetype": "text/x-python",
   "name": "python",
   "nbconvert_exporter": "python",
   "pygments_lexer": "ipython3",
   "version": "3.10.8"
  },
  "vscode": {
   "interpreter": {
    "hash": "d438a214720c0b03b55c16a87634c75f9f0a42d89c1badde82c51803f21f93fd"
   }
  }
 },
 "nbformat": 4,
 "nbformat_minor": 2
}
